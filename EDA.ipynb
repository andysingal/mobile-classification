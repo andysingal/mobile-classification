{
  "nbformat": 4,
  "nbformat_minor": 0,
  "metadata": {
    "colab": {
      "provenance": [],
      "toc_visible": true,
      "authorship_tag": "ABX9TyO+ZJNzxjGKkSENJLXmwdq/",
      "include_colab_link": true
    },
    "kernelspec": {
      "name": "python3",
      "display_name": "Python 3"
    },
    "language_info": {
      "name": "python"
    }
  },
  "cells": [
    {
      "cell_type": "markdown",
      "metadata": {
        "id": "view-in-github",
        "colab_type": "text"
      },
      "source": [
        "<a href=\"https://colab.research.google.com/github/andysingal/mobile-classification/blob/main/EDA.ipynb\" target=\"_parent\"><img src=\"https://colab.research.google.com/assets/colab-badge.svg\" alt=\"Open In Colab\"/></a>"
      ]
    },
    {
      "cell_type": "markdown",
      "source": [
        "## Problem Description\n",
        "\n",
        "XYZ has started their own mobile company. They want to fight hard battles with big companies like Apple, Samsung, etc. In this competitive mobile market, you cannot simply imagine things. To solve this problem you are collecting data on mobile sales of various companies. They want to find some connection between mobile features (eg: - RAM, Internal Memory, etc.) and their sales value. But they are not very good at Machine Learning. So they need your help to solve this problem. In this case, you do not need to predict the actual price but a price list that shows how high the price is.\n",
        "\n",
        "##Data Description\n",
        "\n",
        "The data is divided into 2 groups:\n",
        "• Training Set (train.csv) \n",
        "• Test Set (test.csv) \n",
        "The training set should be used to build learning models for your machine. In the training set, we provide the result (also known as a target label or class) for each mobile data point. A test set should be used to see how well your model is performing on intangible data. In the test set, we do not provide the result (targeted variable) of each mobile data point of sale. For each data point in the test, use a trained model to predict the price range.\n"
      ],
      "metadata": {
        "id": "PVRvkReu5tqx"
      }
    },
    {
      "cell_type": "code",
      "execution_count": 40,
      "metadata": {
        "colab": {
          "base_uri": "https://localhost:8080/",
          "height": 118
        },
        "id": "XoQPs_MI3hhp",
        "outputId": "b92ba31a-eaf1-492a-9887-4936fe4d0b12"
      },
      "outputs": [
        {
          "output_type": "display_data",
          "data": {
            "text/plain": [
              "<Figure size 600x100 with 1 Axes>"
            ],
            "image/png": "[encoded data removed]"
          },
          "metadata": {}
        }
      ],
      "source": [
        "import pandas as pd\n",
        "import numpy as np\n",
        "import matplotlib.pyplot as plt \n",
        "import seaborn as sns\n",
        "import plotly.express as px \n",
        "\n",
        "# Pandas Profiling\n",
        "from pandas_profiling import ProfileReport\n",
        "\n",
        "from sklearn.model_selection import train_test_split, cross_val_score\n",
        "from sklearn.pipeline import Pipeline\n",
        "from sklearn.impute import SimpleImputer\n",
        "from sklearn.preprocessing import OneHotEncoder\n",
        "from sklearn.compose import ColumnTransformer\n",
        "from sklearn.ensemble import RandomForestRegressor\n",
        "from sklearn.metrics import mean_absolute_error\n",
        "\n",
        "# Supress warnings\n",
        "import warnings\n",
        "warnings.filterwarnings('ignore')\n",
        "\n",
        "#color pallet and theme\n",
        "import matplotlib.colors\n",
        "\n",
        "colors = [\"#e9f5f0\",\"#d5eae9\",\"#2e5551\",'#468e71','#4d9b68','#59ae8c']\n",
        "colors2 = [\"#2e5551\",'#468e71','#4d9b68','#59ae8c', \"#e9f5f0\",\"#d5eae9\"]\n",
        "cmap = matplotlib.colors.ListedColormap(colors2)\n",
        "\n",
        "sns.palplot(sns.color_palette(colors))\n",
        "\n",
        "\n",
        "pd.set_option('display.max_columns', 100)\n",
        "pd.set_option('display.max_rows', 100)"
      ]
    },
    {
      "cell_type": "markdown",
      "source": [
        "#TEST DATA"
      ],
      "metadata": {
        "id": "fOQWcJCfe8uF"
      }
    },
    {
      "cell_type": "code",
      "source": [
        "DATA_FIL = 'mobile-price-classification/test.csv'\n",
        "df_test = pd.read_csv(DATA_FIL)\n",
        "#Drop Redundant column \n",
        "df_test = df_test.loc[:, df.columns!='Unnamed: 0']\n",
        "df_test = df_test.rename(columns = {'blue': 'Bluetooth',\n",
        "                          'battery_power': 'Battery_power',\n",
        "                          'clock_speed': 'Clock_speed',\n",
        "                          'dual_sim': 'Dual_sim',\n",
        "                          'four_g': '4G_Network',\n",
        "                          'int_memory':'Internal_memory',\n",
        "                          \"m_dep\": \"depth\",\n",
        "                          \"mobile_wt\": \"weight\",\n",
        "                          \"pc\": \"primary_camera_megapixels\",\n",
        "                          'n_cores': 'Number of processor_cores',\n",
        "                          'px_height':'Pixel_Resolution_Height',\n",
        "                          'px_width': 'Pixel_Resolution_Width',\n",
        "                          \"fc\": \"front_camera_megapixels\",\n",
        "                          \"sc_h\": \"screen_height\",\n",
        "                          \"sc_w\": \"screen_width\",\n",
        "                          \"three_g\": \"3G_Network\",\n",
        "})\n",
        "df_test= df_test.reset_index(drop=True)\n",
        "df_test.info()\n",
        "df_test.head()"
      ],
      "metadata": {
        "colab": {
          "base_uri": "https://localhost:8080/",
          "height": 794
        },
        "id": "E3OpS5Hgeg7C",
        "outputId": "59d35916-a029-4db9-ca2a-1c7c39df6987"
      },
      "execution_count": 43,
      "outputs": [
        {
          "output_type": "stream",
          "name": "stdout",
          "text": [
            "<class 'pandas.core.frame.DataFrame'>\n",
            "RangeIndex: 500 entries, 0 to 499\n",
            "Data columns (total 21 columns):\n",
            " #   Column                     Non-Null Count  Dtype  \n",
            "---  ------                     --------------  -----  \n",
            " 0   Unnamed: 0                 500 non-null    int64  \n",
            " 1   Battery_power              500 non-null    int64  \n",
            " 2   Bluetooth                  500 non-null    int64  \n",
            " 3   Clock_speed                500 non-null    float64\n",
            " 4   Dual_sim                   500 non-null    int64  \n",
            " 5   front_camera_megapixels    500 non-null    int64  \n",
            " 6   4G_Network                 500 non-null    int64  \n",
            " 7   Internal_memory            500 non-null    int64  \n",
            " 8   depth                      500 non-null    float64\n",
            " 9   weight                     500 non-null    int64  \n",
            " 10  Number of processor_cores  500 non-null    int64  \n",
            " 11  primary_camera_megapixels  500 non-null    int64  \n",
            " 12  Pixel_Resolution_Height    500 non-null    int64  \n",
            " 13  Pixel_Resolution_Width     500 non-null    int64  \n",
            " 14  ram                        500 non-null    int64  \n",
            " 15  screen_height              500 non-null    int64  \n",
            " 16  screen_width               500 non-null    int64  \n",
            " 17  talk_time                  500 non-null    int64  \n",
            " 18  3G_Network                 500 non-null    int64  \n",
            " 19  touch_screen               500 non-null    int64  \n",
            " 20  wifi                       500 non-null    int64  \n",
            "dtypes: float64(2), int64(19)\n",
            "memory usage: 82.2 KB\n"
          ]
        },
        {
          "output_type": "execute_result",
          "data": {
            "text/plain": [
              "   Unnamed: 0  Battery_power  Bluetooth  Clock_speed  Dual_sim  \\\n",
              "0           1           1021          1          0.5         1   \n",
              "1           2            563          1          0.5         1   \n",
              "2           6           1821          0          1.7         0   \n",
              "3           9            509          1          0.6         1   \n",
              "4          17            595          0          0.9         1   \n",
              "\n",
              "   front_camera_megapixels  4G_Network  Internal_memory  depth  weight  \\\n",
              "0                        0           1               53    0.7     136   \n",
              "1                        2           1               41    0.9     145   \n",
              "2                        4           1               10    0.8     139   \n",
              "3                        2           1                9    0.1      93   \n",
              "4                        7           1               23    0.1     121   \n",
              "\n",
              "   Number of processor_cores  primary_camera_megapixels  \\\n",
              "0                          3                          6   \n",
              "1                          5                          6   \n",
              "2                          8                         10   \n",
              "3                          5                         15   \n",
              "4                          3                         17   \n",
              "\n",
              "   Pixel_Resolution_Height  Pixel_Resolution_Width   ram  screen_height  \\\n",
              "0                      905                    1988  2631             17   \n",
              "1                     1263                    1716  2603             11   \n",
              "2                      381                    1018  3220             13   \n",
              "3                     1137                    1224   513             19   \n",
              "4                      441                     810  3752             10   \n",
              "\n",
              "   screen_width  talk_time  3G_Network  touch_screen  wifi  \n",
              "0             3          7           1             1     0  \n",
              "1             2          9           1             1     0  \n",
              "2             8         18           1             0     1  \n",
              "3            10         12           1             0     0  \n",
              "4             2         18           1             1     0  "
            ],
            "text/html": [
              "\n",
              "  <div id=\"df-2ec07165-4ae7-490b-8cd3-c72c2b3496f3\">\n",
              "    <div class=\"colab-df-container\">\n",
              "      <div>\n",
              "<style scoped>\n",
              "    .dataframe tbody tr th:only-of-type {\n",
              "        vertical-align: middle;\n",
              "    }\n",
              "\n",
              "    .dataframe tbody tr th {\n",
              "        vertical-align: top;\n",
              "    }\n",
              "\n",
              "    .dataframe thead th {\n",
              "        text-align: right;\n",
              "    }\n",
              "</style>\n",
              "<table border=\"1\" class=\"dataframe\">\n",
              "  <thead>\n",
              "    <tr style=\"text-align: right;\">\n",
              "      <th></th>\n",
              "      <th>Unnamed: 0</th>\n",
              "      <th>Battery_power</th>\n",
              "      <th>Bluetooth</th>\n",
              "      <th>Clock_speed</th>\n",
              "      <th>Dual_sim</th>\n",
              "      <th>front_camera_megapixels</th>\n",
              "      <th>4G_Network</th>\n",
              "      <th>Internal_memory</th>\n",
              "      <th>depth</th>\n",
              "      <th>weight</th>\n",
              "      <th>Number of processor_cores</th>\n",
              "      <th>primary_camera_megapixels</th>\n",
              "      <th>Pixel_Resolution_Height</th>\n",
              "      <th>Pixel_Resolution_Width</th>\n",
              "      <th>ram</th>\n",
              "      <th>screen_height</th>\n",
              "      <th>screen_width</th>\n",
              "      <th>talk_time</th>\n",
              "      <th>3G_Network</th>\n",
              "      <th>touch_screen</th>\n",
              "      <th>wifi</th>\n",
              "    </tr>\n",
              "  </thead>\n",
              "  <tbody>\n",
              "    <tr>\n",
              "      <th>0</th>\n",
              "      <td>1</td>\n",
              "      <td>1021</td>\n",
              "      <td>1</td>\n",
              "      <td>0.5</td>\n",
              "      <td>1</td>\n",
              "      <td>0</td>\n",
              "      <td>1</td>\n",
              "      <td>53</td>\n",
              "      <td>0.7</td>\n",
              "      <td>136</td>\n",
              "      <td>3</td>\n",
              "      <td>6</td>\n",
              "      <td>905</td>\n",
              "      <td>1988</td>\n",
              "      <td>2631</td>\n",
              "      <td>17</td>\n",
              "      <td>3</td>\n",
              "      <td>7</td>\n",
              "      <td>1</td>\n",
              "      <td>1</td>\n",
              "      <td>0</td>\n",
              "    </tr>\n",
              "    <tr>\n",
              "      <th>1</th>\n",
              "      <td>2</td>\n",
              "      <td>563</td>\n",
              "      <td>1</td>\n",
              "      <td>0.5</td>\n",
              "      <td>1</td>\n",
              "      <td>2</td>\n",
              "      <td>1</td>\n",
              "      <td>41</td>\n",
              "      <td>0.9</td>\n",
              "      <td>145</td>\n",
              "      <td>5</td>\n",
              "      <td>6</td>\n",
              "      <td>1263</td>\n",
              "      <td>1716</td>\n",
              "      <td>2603</td>\n",
              "      <td>11</td>\n",
              "      <td>2</td>\n",
              "      <td>9</td>\n",
              "      <td>1</td>\n",
              "      <td>1</td>\n",
              "      <td>0</td>\n",
              "    </tr>\n",
              "    <tr>\n",
              "      <th>2</th>\n",
              "      <td>6</td>\n",
              "      <td>1821</td>\n",
              "      <td>0</td>\n",
              "      <td>1.7</td>\n",
              "      <td>0</td>\n",
              "      <td>4</td>\n",
              "      <td>1</td>\n",
              "      <td>10</td>\n",
              "      <td>0.8</td>\n",
              "      <td>139</td>\n",
              "      <td>8</td>\n",
              "      <td>10</td>\n",
              "      <td>381</td>\n",
              "      <td>1018</td>\n",
              "      <td>3220</td>\n",
              "      <td>13</td>\n",
              "      <td>8</td>\n",
              "      <td>18</td>\n",
              "      <td>1</td>\n",
              "      <td>0</td>\n",
              "      <td>1</td>\n",
              "    </tr>\n",
              "    <tr>\n",
              "      <th>3</th>\n",
              "      <td>9</td>\n",
              "      <td>509</td>\n",
              "      <td>1</td>\n",
              "      <td>0.6</td>\n",
              "      <td>1</td>\n",
              "      <td>2</td>\n",
              "      <td>1</td>\n",
              "      <td>9</td>\n",
              "      <td>0.1</td>\n",
              "      <td>93</td>\n",
              "      <td>5</td>\n",
              "      <td>15</td>\n",
              "      <td>1137</td>\n",
              "      <td>1224</td>\n",
              "      <td>513</td>\n",
              "      <td>19</td>\n",
              "      <td>10</td>\n",
              "      <td>12</td>\n",
              "      <td>1</td>\n",
              "      <td>0</td>\n",
              "      <td>0</td>\n",
              "    </tr>\n",
              "    <tr>\n",
              "      <th>4</th>\n",
              "      <td>17</td>\n",
              "      <td>595</td>\n",
              "      <td>0</td>\n",
              "      <td>0.9</td>\n",
              "      <td>1</td>\n",
              "      <td>7</td>\n",
              "      <td>1</td>\n",
              "      <td>23</td>\n",
              "      <td>0.1</td>\n",
              "      <td>121</td>\n",
              "      <td>3</td>\n",
              "      <td>17</td>\n",
              "      <td>441</td>\n",
              "      <td>810</td>\n",
              "      <td>3752</td>\n",
              "      <td>10</td>\n",
              "      <td>2</td>\n",
              "      <td>18</td>\n",
              "      <td>1</td>\n",
              "      <td>1</td>\n",
              "      <td>0</td>\n",
              "    </tr>\n",
              "  </tbody>\n",
              "</table>\n",
              "</div>\n",
              "      <button class=\"colab-df-convert\" onclick=\"convertToInteractive('df-2ec07165-4ae7-490b-8cd3-c72c2b3496f3')\"\n",
              "              title=\"Convert this dataframe to an interactive table.\"\n",
              "              style=\"display:none;\">\n",
              "        \n",
              "  <svg xmlns=\"http://www.w3.org/2000/svg\" height=\"24px\"viewBox=\"0 0 24 24\"\n",
              "       width=\"24px\">\n",
              "    <path d=\"M0 0h24v24H0V0z\" fill=\"none\"/>\n",
              "    <path d=\"M18.56 5.44l.94 2.06.94-2.06 2.06-.94-2.06-.94-.94-2.06-.94 2.06-2.06.94zm-11 1L8.5 8.5l.94-2.06 2.06-.94-2.06-.94L8.5 2.5l-.94 2.06-2.06.94zm10 10l.94 2.06.94-2.06 2.06-.94-2.06-.94-.94-2.06-.94 2.06-2.06.94z\"/><path d=\"M17.41 7.96l-1.37-1.37c-.4-.4-.92-.59-1.43-.59-.52 0-1.04.2-1.43.59L10.3 9.45l-7.72 7.72c-.78.78-.78 2.05 0 2.83L4 21.41c.39.39.9.59 1.41.59.51 0 1.02-.2 1.41-.59l7.78-7.78 2.81-2.81c.8-.78.8-2.07 0-2.86zM5.41 20L4 18.59l7.72-7.72 1.47 1.35L5.41 20z\"/>\n",
              "  </svg>\n",
              "      </button>\n",
              "      \n",
              "  <style>\n",
              "    .colab-df-container {\n",
              "      display:flex;\n",
              "      flex-wrap:wrap;\n",
              "      gap: 12px;\n",
              "    }\n",
              "\n",
              "    .colab-df-convert {\n",
              "      background-color: #E8F0FE;\n",
              "      border: none;\n",
              "      border-radius: 50%;\n",
              "      cursor: pointer;\n",
              "      display: none;\n",
              "      fill: #1967D2;\n",
              "      height: 32px;\n",
              "      padding: 0 0 0 0;\n",
              "      width: 32px;\n",
              "    }\n",
              "\n",
              "    .colab-df-convert:hover {\n",
              "      background-color: #E2EBFA;\n",
              "      box-shadow: 0px 1px 2px rgba(60, 64, 67, 0.3), 0px 1px 3px 1px rgba(60, 64, 67, 0.15);\n",
              "      fill: #174EA6;\n",
              "    }\n",
              "\n",
              "    [theme=dark] .colab-df-convert {\n",
              "      background-color: #3B4455;\n",
              "      fill: #D2E3FC;\n",
              "    }\n",
              "\n",
              "    [theme=dark] .colab-df-convert:hover {\n",
              "      background-color: #434B5C;\n",
              "      box-shadow: 0px 1px 3px 1px rgba(0, 0, 0, 0.15);\n",
              "      filter: drop-shadow(0px 1px 2px rgba(0, 0, 0, 0.3));\n",
              "      fill: #FFFFFF;\n",
              "    }\n",
              "  </style>\n",
              "\n",
              "      <script>\n",
              "        const buttonEl =\n",
              "          document.querySelector('#df-2ec07165-4ae7-490b-8cd3-c72c2b3496f3 button.colab-df-convert');\n",
              "        buttonEl.style.display =\n",
              "          google.colab.kernel.accessAllowed ? 'block' : 'none';\n",
              "\n",
              "        async function convertToInteractive(key) {\n",
              "          const element = document.querySelector('#df-2ec07165-4ae7-490b-8cd3-c72c2b3496f3');\n",
              "          const dataTable =\n",
              "            await google.colab.kernel.invokeFunction('convertToInteractive',\n",
              "                                                     [key], {});\n",
              "          if (!dataTable) return;\n",
              "\n",
              "          const docLinkHtml = 'Like what you see? Visit the ' +\n",
              "            '<a target=\"_blank\" href=https://colab.research.google.com/notebooks/data_table.ipynb>data table notebook</a>'\n",
              "            + ' to learn more about interactive tables.';\n",
              "          element.innerHTML = '';\n",
              "          dataTable['output_type'] = 'display_data';\n",
              "          await google.colab.output.renderOutput(dataTable, element);\n",
              "          const docLink = document.createElement('div');\n",
              "          docLink.innerHTML = docLinkHtml;\n",
              "          element.appendChild(docLink);\n",
              "        }\n",
              "      </script>\n",
              "    </div>\n",
              "  </div>\n",
              "  "
            ]
          },
          "metadata": {},
          "execution_count": 43
        }
      ]
    },
    {
      "cell_type": "markdown",
      "source": [
        "#TRAIN DATA \n"
      ],
      "metadata": {
        "id": "i3OCVWi3e_Vf"
      }
    },
    {
      "cell_type": "code",
      "source": [
        "DATA_FILE = 'mobile-price-classification/train.csv'\n",
        "df = pd.read_csv(DATA_FILE)\n",
        "#Drop Redundant column \n",
        "df = df.loc[:, df.columns!='Unnamed: 0']\n",
        "df = df.rename(columns = {'blue': 'Bluetooth',\n",
        "                          'battery_power': 'Battery_power',\n",
        "                          'clock_speed': 'Clock_speed',\n",
        "                          'dual_sim': 'Dual_sim',\n",
        "                          'four_g': '4G_Network',\n",
        "                          'int_memory':'Internal_memory',\n",
        "                          \"m_dep\": \"depth\",\n",
        "                          \"mobile_wt\": \"weight\",\n",
        "                          \"pc\": \"primary_camera_megapixels\",\n",
        "                          'n_cores': 'Number of processor_cores',\n",
        "                          'px_height':'Pixel_Resolution_Height',\n",
        "                          'px_width': 'Pixel_Resolution_Width',\n",
        "                          \"fc\": \"front_camera_megapixels\",\n",
        "                          \"sc_h\": \"screen_height\",\n",
        "                          \"sc_w\": \"screen_width\",\n",
        "                          \"three_g\": \"3G_Network\",\n",
        "})\n",
        "df= df.reset_index(drop=True)\n",
        "df.info()\n",
        "df.head()"
      ],
      "metadata": {
        "colab": {
          "base_uri": "https://localhost:8080/",
          "height": 794
        },
        "id": "6BDuPlD07j3U",
        "outputId": "04cb261d-97e9-4e94-cade-39eca933645f"
      },
      "execution_count": 27,
      "outputs": [
        {
          "output_type": "stream",
          "name": "stdout",
          "text": [
            "<class 'pandas.core.frame.DataFrame'>\n",
            "RangeIndex: 1500 entries, 0 to 1499\n",
            "Data columns (total 21 columns):\n",
            " #   Column                     Non-Null Count  Dtype  \n",
            "---  ------                     --------------  -----  \n",
            " 0   Battery_power              1500 non-null   int64  \n",
            " 1   Bluetooth                  1500 non-null   int64  \n",
            " 2   Clock_speed                1500 non-null   float64\n",
            " 3   Dual_sim                   1500 non-null   int64  \n",
            " 4   front_camera_megapixels    1500 non-null   int64  \n",
            " 5   4G_Network                 1500 non-null   int64  \n",
            " 6   Internal_memory            1500 non-null   int64  \n",
            " 7   depth                      1500 non-null   float64\n",
            " 8   weight                     1500 non-null   int64  \n",
            " 9   Number of processor_cores  1500 non-null   int64  \n",
            " 10  primary_camera_megapixels  1500 non-null   int64  \n",
            " 11  Pixel_Resolution_Height    1500 non-null   int64  \n",
            " 12  Pixel_Resolution_Width     1500 non-null   int64  \n",
            " 13  ram                        1500 non-null   int64  \n",
            " 14  screen_height              1500 non-null   int64  \n",
            " 15  screen_width               1500 non-null   int64  \n",
            " 16  talk_time                  1500 non-null   int64  \n",
            " 17  3G_Network                 1500 non-null   int64  \n",
            " 18  touch_screen               1500 non-null   int64  \n",
            " 19  wifi                       1500 non-null   int64  \n",
            " 20  price_range                1500 non-null   int64  \n",
            "dtypes: float64(2), int64(19)\n",
            "memory usage: 246.2 KB\n"
          ]
        },
        {
          "output_type": "execute_result",
          "data": {
            "text/plain": [
              "   Battery_power  Bluetooth  Clock_speed  Dual_sim  front_camera_megapixels  \\\n",
              "0           1151          1          2.9         1                        0   \n",
              "1           1065          0          1.7         1                        4   \n",
              "2           1375          0          2.9         0                        2   \n",
              "3           1329          1          1.0         0                        1   \n",
              "4           1521          1          1.6         0                        5   \n",
              "\n",
              "   4G_Network  Internal_memory  depth  weight  Number of processor_cores  \\\n",
              "0           0               31    0.6     128                          8   \n",
              "1           1               48    0.3     162                          6   \n",
              "2           0               20    0.4     147                          6   \n",
              "3           0               52    0.9     181                          6   \n",
              "4           1               62    0.3     143                          1   \n",
              "\n",
              "   primary_camera_megapixels  Pixel_Resolution_Height  Pixel_Resolution_Width  \\\n",
              "0                          1                     1022                    1560   \n",
              "1                          8                     1188                    1948   \n",
              "2                          7                      596                     679   \n",
              "3                          2                     1053                    1458   \n",
              "4                          9                      678                    1630   \n",
              "\n",
              "    ram  screen_height  screen_width  talk_time  3G_Network  touch_screen  \\\n",
              "0  2377             18             8         13           0             1   \n",
              "1   265              8             0         12           1             0   \n",
              "2  3847              8             0         12           1             0   \n",
              "3  1228              8             6          6           1             0   \n",
              "4  3555              5             2         19           1             0   \n",
              "\n",
              "   wifi  price_range  \n",
              "0     0            2  \n",
              "1     0            0  \n",
              "2     1            3  \n",
              "3     1            1  \n",
              "4     0            3  "
            ],
            "text/html": [
              "\n",
              "  <div id=\"df-c1f2f515-172b-449e-991d-a540743ed3d6\">\n",
              "    <div class=\"colab-df-container\">\n",
              "      <div>\n",
              "<style scoped>\n",
              "    .dataframe tbody tr th:only-of-type {\n",
              "        vertical-align: middle;\n",
              "    }\n",
              "\n",
              "    .dataframe tbody tr th {\n",
              "        vertical-align: top;\n",
              "    }\n",
              "\n",
              "    .dataframe thead th {\n",
              "        text-align: right;\n",
              "    }\n",
              "</style>\n",
              "<table border=\"1\" class=\"dataframe\">\n",
              "  <thead>\n",
              "    <tr style=\"text-align: right;\">\n",
              "      <th></th>\n",
              "      <th>Battery_power</th>\n",
              "      <th>Bluetooth</th>\n",
              "      <th>Clock_speed</th>\n",
              "      <th>Dual_sim</th>\n",
              "      <th>front_camera_megapixels</th>\n",
              "      <th>4G_Network</th>\n",
              "      <th>Internal_memory</th>\n",
              "      <th>depth</th>\n",
              "      <th>weight</th>\n",
              "      <th>Number of processor_cores</th>\n",
              "      <th>primary_camera_megapixels</th>\n",
              "      <th>Pixel_Resolution_Height</th>\n",
              "      <th>Pixel_Resolution_Width</th>\n",
              "      <th>ram</th>\n",
              "      <th>screen_height</th>\n",
              "      <th>screen_width</th>\n",
              "      <th>talk_time</th>\n",
              "      <th>3G_Network</th>\n",
              "      <th>touch_screen</th>\n",
              "      <th>wifi</th>\n",
              "      <th>price_range</th>\n",
              "    </tr>\n",
              "  </thead>\n",
              "  <tbody>\n",
              "    <tr>\n",
              "      <th>0</th>\n",
              "      <td>1151</td>\n",
              "      <td>1</td>\n",
              "      <td>2.9</td>\n",
              "      <td>1</td>\n",
              "      <td>0</td>\n",
              "      <td>0</td>\n",
              "      <td>31</td>\n",
              "      <td>0.6</td>\n",
              "      <td>128</td>\n",
              "      <td>8</td>\n",
              "      <td>1</td>\n",
              "      <td>1022</td>\n",
              "      <td>1560</td>\n",
              "      <td>2377</td>\n",
              "      <td>18</td>\n",
              "      <td>8</td>\n",
              "      <td>13</td>\n",
              "      <td>0</td>\n",
              "      <td>1</td>\n",
              "      <td>0</td>\n",
              "      <td>2</td>\n",
              "    </tr>\n",
              "    <tr>\n",
              "      <th>1</th>\n",
              "      <td>1065</td>\n",
              "      <td>0</td>\n",
              "      <td>1.7</td>\n",
              "      <td>1</td>\n",
              "      <td>4</td>\n",
              "      <td>1</td>\n",
              "      <td>48</td>\n",
              "      <td>0.3</td>\n",
              "      <td>162</td>\n",
              "      <td>6</td>\n",
              "      <td>8</td>\n",
              "      <td>1188</td>\n",
              "      <td>1948</td>\n",
              "      <td>265</td>\n",
              "      <td>8</td>\n",
              "      <td>0</td>\n",
              "      <td>12</td>\n",
              "      <td>1</td>\n",
              "      <td>0</td>\n",
              "      <td>0</td>\n",
              "      <td>0</td>\n",
              "    </tr>\n",
              "    <tr>\n",
              "      <th>2</th>\n",
              "      <td>1375</td>\n",
              "      <td>0</td>\n",
              "      <td>2.9</td>\n",
              "      <td>0</td>\n",
              "      <td>2</td>\n",
              "      <td>0</td>\n",
              "      <td>20</td>\n",
              "      <td>0.4</td>\n",
              "      <td>147</td>\n",
              "      <td>6</td>\n",
              "      <td>7</td>\n",
              "      <td>596</td>\n",
              "      <td>679</td>\n",
              "      <td>3847</td>\n",
              "      <td>8</td>\n",
              "      <td>0</td>\n",
              "      <td>12</td>\n",
              "      <td>1</td>\n",
              "      <td>0</td>\n",
              "      <td>1</td>\n",
              "      <td>3</td>\n",
              "    </tr>\n",
              "    <tr>\n",
              "      <th>3</th>\n",
              "      <td>1329</td>\n",
              "      <td>1</td>\n",
              "      <td>1.0</td>\n",
              "      <td>0</td>\n",
              "      <td>1</td>\n",
              "      <td>0</td>\n",
              "      <td>52</td>\n",
              "      <td>0.9</td>\n",
              "      <td>181</td>\n",
              "      <td>6</td>\n",
              "      <td>2</td>\n",
              "      <td>1053</td>\n",
              "      <td>1458</td>\n",
              "      <td>1228</td>\n",
              "      <td>8</td>\n",
              "      <td>6</td>\n",
              "      <td>6</td>\n",
              "      <td>1</td>\n",
              "      <td>0</td>\n",
              "      <td>1</td>\n",
              "      <td>1</td>\n",
              "    </tr>\n",
              "    <tr>\n",
              "      <th>4</th>\n",
              "      <td>1521</td>\n",
              "      <td>1</td>\n",
              "      <td>1.6</td>\n",
              "      <td>0</td>\n",
              "      <td>5</td>\n",
              "      <td>1</td>\n",
              "      <td>62</td>\n",
              "      <td>0.3</td>\n",
              "      <td>143</td>\n",
              "      <td>1</td>\n",
              "      <td>9</td>\n",
              "      <td>678</td>\n",
              "      <td>1630</td>\n",
              "      <td>3555</td>\n",
              "      <td>5</td>\n",
              "      <td>2</td>\n",
              "      <td>19</td>\n",
              "      <td>1</td>\n",
              "      <td>0</td>\n",
              "      <td>0</td>\n",
              "      <td>3</td>\n",
              "    </tr>\n",
              "  </tbody>\n",
              "</table>\n",
              "</div>\n",
              "      <button class=\"colab-df-convert\" onclick=\"convertToInteractive('df-c1f2f515-172b-449e-991d-a540743ed3d6')\"\n",
              "              title=\"Convert this dataframe to an interactive table.\"\n",
              "              style=\"display:none;\">\n",
              "        \n",
              "  <svg xmlns=\"http://www.w3.org/2000/svg\" height=\"24px\"viewBox=\"0 0 24 24\"\n",
              "       width=\"24px\">\n",
              "    <path d=\"M0 0h24v24H0V0z\" fill=\"none\"/>\n",
              "    <path d=\"M18.56 5.44l.94 2.06.94-2.06 2.06-.94-2.06-.94-.94-2.06-.94 2.06-2.06.94zm-11 1L8.5 8.5l.94-2.06 2.06-.94-2.06-.94L8.5 2.5l-.94 2.06-2.06.94zm10 10l.94 2.06.94-2.06 2.06-.94-2.06-.94-.94-2.06-.94 2.06-2.06.94z\"/><path d=\"M17.41 7.96l-1.37-1.37c-.4-.4-.92-.59-1.43-.59-.52 0-1.04.2-1.43.59L10.3 9.45l-7.72 7.72c-.78.78-.78 2.05 0 2.83L4 21.41c.39.39.9.59 1.41.59.51 0 1.02-.2 1.41-.59l7.78-7.78 2.81-2.81c.8-.78.8-2.07 0-2.86zM5.41 20L4 18.59l7.72-7.72 1.47 1.35L5.41 20z\"/>\n",
              "  </svg>\n",
              "      </button>\n",
              "      \n",
              "  <style>\n",
              "    .colab-df-container {\n",
              "      display:flex;\n",
              "      flex-wrap:wrap;\n",
              "      gap: 12px;\n",
              "    }\n",
              "\n",
              "    .colab-df-convert {\n",
              "      background-color: #E8F0FE;\n",
              "      border: none;\n",
              "      border-radius: 50%;\n",
              "      cursor: pointer;\n",
              "      display: none;\n",
              "      fill: #1967D2;\n",
              "      height: 32px;\n",
              "      padding: 0 0 0 0;\n",
              "      width: 32px;\n",
              "    }\n",
              "\n",
              "    .colab-df-convert:hover {\n",
              "      background-color: #E2EBFA;\n",
              "      box-shadow: 0px 1px 2px rgba(60, 64, 67, 0.3), 0px 1px 3px 1px rgba(60, 64, 67, 0.15);\n",
              "      fill: #174EA6;\n",
              "    }\n",
              "\n",
              "    [theme=dark] .colab-df-convert {\n",
              "      background-color: #3B4455;\n",
              "      fill: #D2E3FC;\n",
              "    }\n",
              "\n",
              "    [theme=dark] .colab-df-convert:hover {\n",
              "      background-color: #434B5C;\n",
              "      box-shadow: 0px 1px 3px 1px rgba(0, 0, 0, 0.15);\n",
              "      filter: drop-shadow(0px 1px 2px rgba(0, 0, 0, 0.3));\n",
              "      fill: #FFFFFF;\n",
              "    }\n",
              "  </style>\n",
              "\n",
              "      <script>\n",
              "        const buttonEl =\n",
              "          document.querySelector('#df-c1f2f515-172b-449e-991d-a540743ed3d6 button.colab-df-convert');\n",
              "        buttonEl.style.display =\n",
              "          google.colab.kernel.accessAllowed ? 'block' : 'none';\n",
              "\n",
              "        async function convertToInteractive(key) {\n",
              "          const element = document.querySelector('#df-c1f2f515-172b-449e-991d-a540743ed3d6');\n",
              "          const dataTable =\n",
              "            await google.colab.kernel.invokeFunction('convertToInteractive',\n",
              "                                                     [key], {});\n",
              "          if (!dataTable) return;\n",
              "\n",
              "          const docLinkHtml = 'Like what you see? Visit the ' +\n",
              "            '<a target=\"_blank\" href=https://colab.research.google.com/notebooks/data_table.ipynb>data table notebook</a>'\n",
              "            + ' to learn more about interactive tables.';\n",
              "          element.innerHTML = '';\n",
              "          dataTable['output_type'] = 'display_data';\n",
              "          await google.colab.output.renderOutput(dataTable, element);\n",
              "          const docLink = document.createElement('div');\n",
              "          docLink.innerHTML = docLinkHtml;\n",
              "          element.appendChild(docLink);\n",
              "        }\n",
              "      </script>\n",
              "    </div>\n",
              "  </div>\n",
              "  "
            ]
          },
          "metadata": {},
          "execution_count": 27
        }
      ]
    },
    {
      "cell_type": "code",
      "source": [
        "df.iloc[:, :-1].describe().T.sort_values(by='std', ascending = False)\\\n",
        "                          .style.background_gradient(cmap=\"Greens\")\\\n",
        "                          .bar(subset=[\"max\"], color='#F8766D')\\\n",
        "                          .bar(subset=[\"mean\"], color='#00BFC4')"
      ],
      "metadata": {
        "colab": {
          "base_uri": "https://localhost:8080/",
          "height": 676
        },
        "id": "zLutv_2-LSRd",
        "outputId": "38508537-c463-4204-f6ae-9a331c8d5f70"
      },
      "execution_count": 38,
      "outputs": [
        {
          "output_type": "execute_result",
          "data": {
            "text/plain": [
              "<pandas.io.formats.style.Styler at 0x7f41813c7e50>"
            ],
            "text/html": [
              "<style type=\"text/css\">\n",
              "#T_403c9_row0_col0, #T_403c9_row1_col0, #T_403c9_row1_col3, #T_403c9_row2_col0, #T_403c9_row3_col0, #T_403c9_row4_col0, #T_403c9_row5_col0, #T_403c9_row6_col0, #T_403c9_row6_col3, #T_403c9_row6_col4, #T_403c9_row7_col0, #T_403c9_row8_col0, #T_403c9_row8_col2, #T_403c9_row8_col3, #T_403c9_row8_col4, #T_403c9_row8_col5, #T_403c9_row8_col6, #T_403c9_row9_col0, #T_403c9_row9_col2, #T_403c9_row9_col3, #T_403c9_row9_col4, #T_403c9_row9_col5, #T_403c9_row9_col6, #T_403c9_row10_col0, #T_403c9_row10_col2, #T_403c9_row11_col0, #T_403c9_row11_col2, #T_403c9_row11_col3, #T_403c9_row11_col4, #T_403c9_row11_col5, #T_403c9_row11_col6, #T_403c9_row12_col0, #T_403c9_row12_col2, #T_403c9_row12_col3, #T_403c9_row12_col4, #T_403c9_row12_col5, #T_403c9_row12_col6, #T_403c9_row13_col0, #T_403c9_row13_col2, #T_403c9_row13_col3, #T_403c9_row13_col4, #T_403c9_row13_col5, #T_403c9_row13_col6, #T_403c9_row14_col0, #T_403c9_row14_col2, #T_403c9_row14_col3, #T_403c9_row14_col4, #T_403c9_row14_col5, #T_403c9_row14_col6, #T_403c9_row15_col0, #T_403c9_row15_col2, #T_403c9_row15_col3, #T_403c9_row15_col4, #T_403c9_row15_col5, #T_403c9_row15_col6, #T_403c9_row16_col0, #T_403c9_row16_col2, #T_403c9_row16_col3, #T_403c9_row16_col4, #T_403c9_row16_col5, #T_403c9_row16_col6, #T_403c9_row17_col0, #T_403c9_row17_col2, #T_403c9_row17_col3, #T_403c9_row17_col4, #T_403c9_row17_col5, #T_403c9_row17_col6, #T_403c9_row18_col0, #T_403c9_row18_col2, #T_403c9_row18_col3, #T_403c9_row18_col4, #T_403c9_row18_col5, #T_403c9_row18_col6, #T_403c9_row19_col0, #T_403c9_row19_col2, #T_403c9_row19_col3, #T_403c9_row19_col4, #T_403c9_row19_col5, #T_403c9_row19_col6 {\n",
              "  background-color: #f7fcf5;\n",
              "  color: #000000;\n",
              "}\n",
              "#T_403c9_row0_col1 {\n",
              "  background-color: #00441b;\n",
              "  color: #f1f1f1;\n",
              "  width: 10em;\n",
              "  background: linear-gradient(90deg, #00BFC4 100.0%, transparent 100.0%);\n",
              "}\n",
              "#T_403c9_row0_col2, #T_403c9_row0_col4, #T_403c9_row0_col5, #T_403c9_row0_col6, #T_403c9_row2_col3, #T_403c9_row3_col3 {\n",
              "  background-color: #00441b;\n",
              "  color: #f1f1f1;\n",
              "}\n",
              "#T_403c9_row0_col3 {\n",
              "  background-color: #70c274;\n",
              "  color: #000000;\n",
              "}\n",
              "#T_403c9_row0_col7 {\n",
              "  background-color: #00441b;\n",
              "  color: #f1f1f1;\n",
              "  width: 10em;\n",
              "  background: linear-gradient(90deg, #F8766D 100.0%, transparent 100.0%);\n",
              "}\n",
              "#T_403c9_row1_col1 {\n",
              "  background-color: #b5e1ae;\n",
              "  color: #000000;\n",
              "  width: 10em;\n",
              "  background: linear-gradient(90deg, #00BFC4 31.0%, transparent 31.0%);\n",
              "}\n",
              "#T_403c9_row1_col2, #T_403c9_row2_col2 {\n",
              "  background-color: #95d391;\n",
              "  color: #000000;\n",
              "}\n",
              "#T_403c9_row1_col4 {\n",
              "  background-color: #c8e9c1;\n",
              "  color: #000000;\n",
              "}\n",
              "#T_403c9_row1_col5 {\n",
              "  background-color: #bee5b8;\n",
              "  color: #000000;\n",
              "}\n",
              "#T_403c9_row1_col6 {\n",
              "  background-color: #b5e1ae;\n",
              "  color: #000000;\n",
              "}\n",
              "#T_403c9_row1_col7 {\n",
              "  background-color: #78c679;\n",
              "  color: #000000;\n",
              "  width: 10em;\n",
              "  background: linear-gradient(90deg, #F8766D 49.0%, transparent 49.0%);\n",
              "}\n",
              "#T_403c9_row2_col1 {\n",
              "  background-color: #52b365;\n",
              "  color: #f1f1f1;\n",
              "  width: 10em;\n",
              "  background: linear-gradient(90deg, #00BFC4 58.2%, transparent 58.2%);\n",
              "}\n",
              "#T_403c9_row2_col4 {\n",
              "  background-color: #309950;\n",
              "  color: #f1f1f1;\n",
              "}\n",
              "#T_403c9_row2_col5 {\n",
              "  background-color: #55b567;\n",
              "  color: #f1f1f1;\n",
              "}\n",
              "#T_403c9_row2_col6 {\n",
              "  background-color: #6abf71;\n",
              "  color: #000000;\n",
              "}\n",
              "#T_403c9_row2_col7 {\n",
              "  background-color: #75c477;\n",
              "  color: #000000;\n",
              "  width: 10em;\n",
              "  background: linear-gradient(90deg, #F8766D 50.0%, transparent 50.0%);\n",
              "}\n",
              "#T_403c9_row3_col1 {\n",
              "  background-color: #4bb062;\n",
              "  color: #f1f1f1;\n",
              "  width: 10em;\n",
              "  background: linear-gradient(90deg, #00BFC4 59.8%, transparent 59.8%);\n",
              "}\n",
              "#T_403c9_row3_col2 {\n",
              "  background-color: #99d595;\n",
              "  color: #000000;\n",
              "}\n",
              "#T_403c9_row3_col4 {\n",
              "  background-color: #278f48;\n",
              "  color: #f1f1f1;\n",
              "}\n",
              "#T_403c9_row3_col5 {\n",
              "  background-color: #4bb062;\n",
              "  color: #f1f1f1;\n",
              "}\n",
              "#T_403c9_row3_col6 {\n",
              "  background-color: #65bd6f;\n",
              "  color: #f1f1f1;\n",
              "}\n",
              "#T_403c9_row3_col7 {\n",
              "  background-color: #75c477;\n",
              "  color: #000000;\n",
              "  width: 10em;\n",
              "  background: linear-gradient(90deg, #F8766D 49.9%, transparent 49.9%);\n",
              "}\n",
              "#T_403c9_row4_col1 {\n",
              "  background-color: #eef8ea;\n",
              "  color: #000000;\n",
              "  width: 10em;\n",
              "  background: linear-gradient(90deg, #00BFC4 6.7%, transparent 6.7%);\n",
              "}\n",
              "#T_403c9_row4_col2 {\n",
              "  background-color: #f2faf0;\n",
              "  color: #000000;\n",
              "}\n",
              "#T_403c9_row4_col3 {\n",
              "  background-color: #ddf2d8;\n",
              "  color: #000000;\n",
              "}\n",
              "#T_403c9_row4_col4 {\n",
              "  background-color: #eaf7e6;\n",
              "  color: #000000;\n",
              "}\n",
              "#T_403c9_row4_col5 {\n",
              "  background-color: #edf8ea;\n",
              "  color: #000000;\n",
              "}\n",
              "#T_403c9_row4_col6 {\n",
              "  background-color: #eff9ec;\n",
              "  color: #000000;\n",
              "}\n",
              "#T_403c9_row4_col7 {\n",
              "  background-color: #f0f9ed;\n",
              "  color: #000000;\n",
              "  width: 10em;\n",
              "  background: linear-gradient(90deg, #F8766D 5.0%, transparent 5.0%);\n",
              "}\n",
              "#T_403c9_row5_col1 {\n",
              "  background-color: #f5fbf3;\n",
              "  color: #000000;\n",
              "  width: 10em;\n",
              "  background: linear-gradient(90deg, #00BFC4 1.5%, transparent 1.5%);\n",
              "}\n",
              "#T_403c9_row5_col2 {\n",
              "  background-color: #f5fbf2;\n",
              "  color: #000000;\n",
              "}\n",
              "#T_403c9_row5_col3, #T_403c9_row6_col2, #T_403c9_row6_col5, #T_403c9_row6_col6, #T_403c9_row7_col2, #T_403c9_row7_col3, #T_403c9_row7_col4, #T_403c9_row7_col5, #T_403c9_row7_col6, #T_403c9_row10_col3, #T_403c9_row10_col4, #T_403c9_row10_col5, #T_403c9_row10_col6 {\n",
              "  background-color: #f6fcf4;\n",
              "  color: #000000;\n",
              "}\n",
              "#T_403c9_row5_col4, #T_403c9_row5_col5, #T_403c9_row5_col6 {\n",
              "  background-color: #f5fbf3;\n",
              "  color: #000000;\n",
              "}\n",
              "#T_403c9_row5_col7 {\n",
              "  background-color: #f5fbf2;\n",
              "  color: #000000;\n",
              "  width: 10em;\n",
              "  background: linear-gradient(90deg, #F8766D 1.6%, transparent 1.6%);\n",
              "}\n",
              "#T_403c9_row6_col1, #T_403c9_row7_col1 {\n",
              "  background-color: #f6fcf4;\n",
              "  color: #000000;\n",
              "  width: 10em;\n",
              "  background: linear-gradient(90deg, #00BFC4 0.5%, transparent 0.5%);\n",
              "}\n",
              "#T_403c9_row6_col7, #T_403c9_row7_col7, #T_403c9_row8_col7, #T_403c9_row9_col7, #T_403c9_row10_col7 {\n",
              "  background-color: #f6fcf4;\n",
              "  color: #000000;\n",
              "  width: 10em;\n",
              "  background: linear-gradient(90deg, #F8766D 0.5%, transparent 0.5%);\n",
              "}\n",
              "#T_403c9_row8_col1, #T_403c9_row11_col1 {\n",
              "  background-color: #f7fcf5;\n",
              "  color: #000000;\n",
              "  width: 10em;\n",
              "  background: linear-gradient(90deg, #00BFC4 0.2%, transparent 0.2%);\n",
              "}\n",
              "#T_403c9_row9_col1 {\n",
              "  background-color: #f7fcf5;\n",
              "  color: #000000;\n",
              "  width: 10em;\n",
              "  background: linear-gradient(90deg, #00BFC4 0.3%, transparent 0.3%);\n",
              "}\n",
              "#T_403c9_row10_col1 {\n",
              "  background-color: #f6fcf4;\n",
              "  color: #000000;\n",
              "  width: 10em;\n",
              "  background: linear-gradient(90deg, #00BFC4 0.6%, transparent 0.6%);\n",
              "}\n",
              "#T_403c9_row11_col7 {\n",
              "  background-color: #f7fcf5;\n",
              "  color: #000000;\n",
              "  width: 10em;\n",
              "  background: linear-gradient(90deg, #F8766D 0.2%, transparent 0.2%);\n",
              "}\n",
              "#T_403c9_row12_col1 {\n",
              "  background-color: #f7fcf5;\n",
              "  color: #000000;\n",
              "  width: 10em;\n",
              "  background: linear-gradient(90deg, #00BFC4 0.1%, transparent 0.1%);\n",
              "}\n",
              "#T_403c9_row12_col7 {\n",
              "  background-color: #f7fcf5;\n",
              "  color: #000000;\n",
              "  width: 10em;\n",
              "  background: linear-gradient(90deg, #F8766D 0.1%, transparent 0.1%);\n",
              "}\n",
              "#T_403c9_row13_col1, #T_403c9_row14_col1, #T_403c9_row15_col1, #T_403c9_row16_col1, #T_403c9_row17_col1, #T_403c9_row18_col1, #T_403c9_row19_col1 {\n",
              "  background-color: #f7fcf5;\n",
              "  color: #000000;\n",
              "  width: 10em;\n",
              "  background: linear-gradient(90deg, #00BFC4 0.0%, transparent 0.0%);\n",
              "}\n",
              "#T_403c9_row13_col7, #T_403c9_row14_col7, #T_403c9_row15_col7, #T_403c9_row16_col7, #T_403c9_row17_col7, #T_403c9_row18_col7, #T_403c9_row19_col7 {\n",
              "  background-color: #f7fcf5;\n",
              "  color: #000000;\n",
              "  width: 10em;\n",
              "  background: linear-gradient(90deg, #F8766D 0.0%, transparent 0.0%);\n",
              "}\n",
              "</style>\n",
              "<table id=\"T_403c9\" class=\"dataframe\">\n",
              "  <thead>\n",
              "    <tr>\n",
              "      <th class=\"blank level0\" >&nbsp;</th>\n",
              "      <th id=\"T_403c9_level0_col0\" class=\"col_heading level0 col0\" >count</th>\n",
              "      <th id=\"T_403c9_level0_col1\" class=\"col_heading level0 col1\" >mean</th>\n",
              "      <th id=\"T_403c9_level0_col2\" class=\"col_heading level0 col2\" >std</th>\n",
              "      <th id=\"T_403c9_level0_col3\" class=\"col_heading level0 col3\" >min</th>\n",
              "      <th id=\"T_403c9_level0_col4\" class=\"col_heading level0 col4\" >25%</th>\n",
              "      <th id=\"T_403c9_level0_col5\" class=\"col_heading level0 col5\" >50%</th>\n",
              "      <th id=\"T_403c9_level0_col6\" class=\"col_heading level0 col6\" >75%</th>\n",
              "      <th id=\"T_403c9_level0_col7\" class=\"col_heading level0 col7\" >max</th>\n",
              "    </tr>\n",
              "  </thead>\n",
              "  <tbody>\n",
              "    <tr>\n",
              "      <th id=\"T_403c9_level0_row0\" class=\"row_heading level0 row0\" >ram</th>\n",
              "      <td id=\"T_403c9_row0_col0\" class=\"data row0 col0\" >1500.000000</td>\n",
              "      <td id=\"T_403c9_row0_col1\" class=\"data row0 col1\" >2113.516000</td>\n",
              "      <td id=\"T_403c9_row0_col2\" class=\"data row0 col2\" >1079.558518</td>\n",
              "      <td id=\"T_403c9_row0_col3\" class=\"data row0 col3\" >256.000000</td>\n",
              "      <td id=\"T_403c9_row0_col4\" class=\"data row0 col4\" >1210.750000</td>\n",
              "      <td id=\"T_403c9_row0_col5\" class=\"data row0 col5\" >2102.500000</td>\n",
              "      <td id=\"T_403c9_row0_col6\" class=\"data row0 col6\" >3056.250000</td>\n",
              "      <td id=\"T_403c9_row0_col7\" class=\"data row0 col7\" >3998.000000</td>\n",
              "    </tr>\n",
              "    <tr>\n",
              "      <th id=\"T_403c9_level0_row1\" class=\"row_heading level0 row1\" >Pixel_Resolution_Height</th>\n",
              "      <td id=\"T_403c9_row1_col0\" class=\"data row1 col0\" >1500.000000</td>\n",
              "      <td id=\"T_403c9_row1_col1\" class=\"data row1 col1\" >654.626667</td>\n",
              "      <td id=\"T_403c9_row1_col2\" class=\"data row1 col2\" >441.496076</td>\n",
              "      <td id=\"T_403c9_row1_col3\" class=\"data row1 col3\" >0.000000</td>\n",
              "      <td id=\"T_403c9_row1_col4\" class=\"data row1 col4\" >299.750000</td>\n",
              "      <td id=\"T_403c9_row1_col5\" class=\"data row1 col5\" >585.000000</td>\n",
              "      <td id=\"T_403c9_row1_col6\" class=\"data row1 col6\" >952.250000</td>\n",
              "      <td id=\"T_403c9_row1_col7\" class=\"data row1 col7\" >1960.000000</td>\n",
              "    </tr>\n",
              "    <tr>\n",
              "      <th id=\"T_403c9_level0_row2\" class=\"row_heading level0 row2\" >Battery_power</th>\n",
              "      <td id=\"T_403c9_row2_col0\" class=\"data row2 col0\" >1500.000000</td>\n",
              "      <td id=\"T_403c9_row2_col1\" class=\"data row2 col1\" >1230.742000</td>\n",
              "      <td id=\"T_403c9_row2_col2\" class=\"data row2 col2\" >440.517687</td>\n",
              "      <td id=\"T_403c9_row2_col3\" class=\"data row2 col3\" >501.000000</td>\n",
              "      <td id=\"T_403c9_row2_col4\" class=\"data row2 col4\" >838.750000</td>\n",
              "      <td id=\"T_403c9_row2_col5\" class=\"data row2 col5\" >1209.000000</td>\n",
              "      <td id=\"T_403c9_row2_col6\" class=\"data row2 col6\" >1611.750000</td>\n",
              "      <td id=\"T_403c9_row2_col7\" class=\"data row2 col7\" >1998.000000</td>\n",
              "    </tr>\n",
              "    <tr>\n",
              "      <th id=\"T_403c9_level0_row3\" class=\"row_heading level0 row3\" >Pixel_Resolution_Width</th>\n",
              "      <td id=\"T_403c9_row3_col0\" class=\"data row3 col0\" >1500.000000</td>\n",
              "      <td id=\"T_403c9_row3_col1\" class=\"data row3 col1\" >1263.805333</td>\n",
              "      <td id=\"T_403c9_row3_col2\" class=\"data row3 col2\" >428.900661</td>\n",
              "      <td id=\"T_403c9_row3_col3\" class=\"data row3 col3\" >500.000000</td>\n",
              "      <td id=\"T_403c9_row3_col4\" class=\"data row3 col4\" >888.750000</td>\n",
              "      <td id=\"T_403c9_row3_col5\" class=\"data row3 col5\" >1262.000000</td>\n",
              "      <td id=\"T_403c9_row3_col6\" class=\"data row3 col6\" >1643.500000</td>\n",
              "      <td id=\"T_403c9_row3_col7\" class=\"data row3 col7\" >1997.000000</td>\n",
              "    </tr>\n",
              "    <tr>\n",
              "      <th id=\"T_403c9_level0_row4\" class=\"row_heading level0 row4\" >weight</th>\n",
              "      <td id=\"T_403c9_row4_col0\" class=\"data row4 col0\" >1500.000000</td>\n",
              "      <td id=\"T_403c9_row4_col1\" class=\"data row4 col1\" >140.582667</td>\n",
              "      <td id=\"T_403c9_row4_col2\" class=\"data row4 col2\" >35.535762</td>\n",
              "      <td id=\"T_403c9_row4_col3\" class=\"data row4 col3\" >80.000000</td>\n",
              "      <td id=\"T_403c9_row4_col4\" class=\"data row4 col4\" >109.000000</td>\n",
              "      <td id=\"T_403c9_row4_col5\" class=\"data row4 col5\" >141.000000</td>\n",
              "      <td id=\"T_403c9_row4_col6\" class=\"data row4 col6\" >171.000000</td>\n",
              "      <td id=\"T_403c9_row4_col7\" class=\"data row4 col7\" >200.000000</td>\n",
              "    </tr>\n",
              "    <tr>\n",
              "      <th id=\"T_403c9_level0_row5\" class=\"row_heading level0 row5\" >Internal_memory</th>\n",
              "      <td id=\"T_403c9_row5_col0\" class=\"data row5 col0\" >1500.000000</td>\n",
              "      <td id=\"T_403c9_row5_col1\" class=\"data row5 col1\" >32.067333</td>\n",
              "      <td id=\"T_403c9_row5_col2\" class=\"data row5 col2\" >18.179598</td>\n",
              "      <td id=\"T_403c9_row5_col3\" class=\"data row5 col3\" >2.000000</td>\n",
              "      <td id=\"T_403c9_row5_col4\" class=\"data row5 col4\" >16.000000</td>\n",
              "      <td id=\"T_403c9_row5_col5\" class=\"data row5 col5\" >32.000000</td>\n",
              "      <td id=\"T_403c9_row5_col6\" class=\"data row5 col6\" >48.000000</td>\n",
              "      <td id=\"T_403c9_row5_col7\" class=\"data row5 col7\" >64.000000</td>\n",
              "    </tr>\n",
              "    <tr>\n",
              "      <th id=\"T_403c9_level0_row6\" class=\"row_heading level0 row6\" >primary_camera_megapixels</th>\n",
              "      <td id=\"T_403c9_row6_col0\" class=\"data row6 col0\" >1500.000000</td>\n",
              "      <td id=\"T_403c9_row6_col1\" class=\"data row6 col1\" >9.870000</td>\n",
              "      <td id=\"T_403c9_row6_col2\" class=\"data row6 col2\" >6.092880</td>\n",
              "      <td id=\"T_403c9_row6_col3\" class=\"data row6 col3\" >0.000000</td>\n",
              "      <td id=\"T_403c9_row6_col4\" class=\"data row6 col4\" >4.000000</td>\n",
              "      <td id=\"T_403c9_row6_col5\" class=\"data row6 col5\" >10.000000</td>\n",
              "      <td id=\"T_403c9_row6_col6\" class=\"data row6 col6\" >15.000000</td>\n",
              "      <td id=\"T_403c9_row6_col7\" class=\"data row6 col7\" >20.000000</td>\n",
              "    </tr>\n",
              "    <tr>\n",
              "      <th id=\"T_403c9_level0_row7\" class=\"row_heading level0 row7\" >talk_time</th>\n",
              "      <td id=\"T_403c9_row7_col0\" class=\"data row7 col0\" >1500.000000</td>\n",
              "      <td id=\"T_403c9_row7_col1\" class=\"data row7 col1\" >10.860667</td>\n",
              "      <td id=\"T_403c9_row7_col2\" class=\"data row7 col2\" >5.506614</td>\n",
              "      <td id=\"T_403c9_row7_col3\" class=\"data row7 col3\" >2.000000</td>\n",
              "      <td id=\"T_403c9_row7_col4\" class=\"data row7 col4\" >6.000000</td>\n",
              "      <td id=\"T_403c9_row7_col5\" class=\"data row7 col5\" >11.000000</td>\n",
              "      <td id=\"T_403c9_row7_col6\" class=\"data row7 col6\" >16.000000</td>\n",
              "      <td id=\"T_403c9_row7_col7\" class=\"data row7 col7\" >20.000000</td>\n",
              "    </tr>\n",
              "    <tr>\n",
              "      <th id=\"T_403c9_level0_row8\" class=\"row_heading level0 row8\" >front_camera_megapixels</th>\n",
              "      <td id=\"T_403c9_row8_col0\" class=\"data row8 col0\" >1500.000000</td>\n",
              "      <td id=\"T_403c9_row8_col1\" class=\"data row8 col1\" >4.361333</td>\n",
              "      <td id=\"T_403c9_row8_col2\" class=\"data row8 col2\" >4.367549</td>\n",
              "      <td id=\"T_403c9_row8_col3\" class=\"data row8 col3\" >0.000000</td>\n",
              "      <td id=\"T_403c9_row8_col4\" class=\"data row8 col4\" >1.000000</td>\n",
              "      <td id=\"T_403c9_row8_col5\" class=\"data row8 col5\" >3.000000</td>\n",
              "      <td id=\"T_403c9_row8_col6\" class=\"data row8 col6\" >7.000000</td>\n",
              "      <td id=\"T_403c9_row8_col7\" class=\"data row8 col7\" >19.000000</td>\n",
              "    </tr>\n",
              "    <tr>\n",
              "      <th id=\"T_403c9_level0_row9\" class=\"row_heading level0 row9\" >screen_width</th>\n",
              "      <td id=\"T_403c9_row9_col0\" class=\"data row9 col0\" >1500.000000</td>\n",
              "      <td id=\"T_403c9_row9_col1\" class=\"data row9 col1\" >5.797333</td>\n",
              "      <td id=\"T_403c9_row9_col2\" class=\"data row9 col2\" >4.366956</td>\n",
              "      <td id=\"T_403c9_row9_col3\" class=\"data row9 col3\" >0.000000</td>\n",
              "      <td id=\"T_403c9_row9_col4\" class=\"data row9 col4\" >2.000000</td>\n",
              "      <td id=\"T_403c9_row9_col5\" class=\"data row9 col5\" >5.000000</td>\n",
              "      <td id=\"T_403c9_row9_col6\" class=\"data row9 col6\" >9.000000</td>\n",
              "      <td id=\"T_403c9_row9_col7\" class=\"data row9 col7\" >18.000000</td>\n",
              "    </tr>\n",
              "    <tr>\n",
              "      <th id=\"T_403c9_level0_row10\" class=\"row_heading level0 row10\" >screen_height</th>\n",
              "      <td id=\"T_403c9_row10_col0\" class=\"data row10 col0\" >1500.000000</td>\n",
              "      <td id=\"T_403c9_row10_col1\" class=\"data row10 col1\" >12.293333</td>\n",
              "      <td id=\"T_403c9_row10_col2\" class=\"data row10 col2\" >4.179346</td>\n",
              "      <td id=\"T_403c9_row10_col3\" class=\"data row10 col3\" >5.000000</td>\n",
              "      <td id=\"T_403c9_row10_col4\" class=\"data row10 col4\" >9.000000</td>\n",
              "      <td id=\"T_403c9_row10_col5\" class=\"data row10 col5\" >12.000000</td>\n",
              "      <td id=\"T_403c9_row10_col6\" class=\"data row10 col6\" >16.000000</td>\n",
              "      <td id=\"T_403c9_row10_col7\" class=\"data row10 col7\" >19.000000</td>\n",
              "    </tr>\n",
              "    <tr>\n",
              "      <th id=\"T_403c9_level0_row11\" class=\"row_heading level0 row11\" >Number of processor_cores</th>\n",
              "      <td id=\"T_403c9_row11_col0\" class=\"data row11 col0\" >1500.000000</td>\n",
              "      <td id=\"T_403c9_row11_col1\" class=\"data row11 col1\" >4.513333</td>\n",
              "      <td id=\"T_403c9_row11_col2\" class=\"data row11 col2\" >2.304784</td>\n",
              "      <td id=\"T_403c9_row11_col3\" class=\"data row11 col3\" >1.000000</td>\n",
              "      <td id=\"T_403c9_row11_col4\" class=\"data row11 col4\" >3.000000</td>\n",
              "      <td id=\"T_403c9_row11_col5\" class=\"data row11 col5\" >4.000000</td>\n",
              "      <td id=\"T_403c9_row11_col6\" class=\"data row11 col6\" >7.000000</td>\n",
              "      <td id=\"T_403c9_row11_col7\" class=\"data row11 col7\" >8.000000</td>\n",
              "    </tr>\n",
              "    <tr>\n",
              "      <th id=\"T_403c9_level0_row12\" class=\"row_heading level0 row12\" >Clock_speed</th>\n",
              "      <td id=\"T_403c9_row12_col0\" class=\"data row12 col0\" >1500.000000</td>\n",
              "      <td id=\"T_403c9_row12_col1\" class=\"data row12 col1\" >1.536867</td>\n",
              "      <td id=\"T_403c9_row12_col2\" class=\"data row12 col2\" >0.810246</td>\n",
              "      <td id=\"T_403c9_row12_col3\" class=\"data row12 col3\" >0.500000</td>\n",
              "      <td id=\"T_403c9_row12_col4\" class=\"data row12 col4\" >0.700000</td>\n",
              "      <td id=\"T_403c9_row12_col5\" class=\"data row12 col5\" >1.500000</td>\n",
              "      <td id=\"T_403c9_row12_col6\" class=\"data row12 col6\" >2.300000</td>\n",
              "      <td id=\"T_403c9_row12_col7\" class=\"data row12 col7\" >3.000000</td>\n",
              "    </tr>\n",
              "    <tr>\n",
              "      <th id=\"T_403c9_level0_row13\" class=\"row_heading level0 row13\" >touch_screen</th>\n",
              "      <td id=\"T_403c9_row13_col0\" class=\"data row13 col0\" >1500.000000</td>\n",
              "      <td id=\"T_403c9_row13_col1\" class=\"data row13 col1\" >0.506667</td>\n",
              "      <td id=\"T_403c9_row13_col2\" class=\"data row13 col2\" >0.500122</td>\n",
              "      <td id=\"T_403c9_row13_col3\" class=\"data row13 col3\" >0.000000</td>\n",
              "      <td id=\"T_403c9_row13_col4\" class=\"data row13 col4\" >0.000000</td>\n",
              "      <td id=\"T_403c9_row13_col5\" class=\"data row13 col5\" >1.000000</td>\n",
              "      <td id=\"T_403c9_row13_col6\" class=\"data row13 col6\" >1.000000</td>\n",
              "      <td id=\"T_403c9_row13_col7\" class=\"data row13 col7\" >1.000000</td>\n",
              "    </tr>\n",
              "    <tr>\n",
              "      <th id=\"T_403c9_level0_row14\" class=\"row_heading level0 row14\" >Bluetooth</th>\n",
              "      <td id=\"T_403c9_row14_col0\" class=\"data row14 col0\" >1500.000000</td>\n",
              "      <td id=\"T_403c9_row14_col1\" class=\"data row14 col1\" >0.508000</td>\n",
              "      <td id=\"T_403c9_row14_col2\" class=\"data row14 col2\" >0.500103</td>\n",
              "      <td id=\"T_403c9_row14_col3\" class=\"data row14 col3\" >0.000000</td>\n",
              "      <td id=\"T_403c9_row14_col4\" class=\"data row14 col4\" >0.000000</td>\n",
              "      <td id=\"T_403c9_row14_col5\" class=\"data row14 col5\" >1.000000</td>\n",
              "      <td id=\"T_403c9_row14_col6\" class=\"data row14 col6\" >1.000000</td>\n",
              "      <td id=\"T_403c9_row14_col7\" class=\"data row14 col7\" >1.000000</td>\n",
              "    </tr>\n",
              "    <tr>\n",
              "      <th id=\"T_403c9_level0_row15\" class=\"row_heading level0 row15\" >wifi</th>\n",
              "      <td id=\"T_403c9_row15_col0\" class=\"data row15 col0\" >1500.000000</td>\n",
              "      <td id=\"T_403c9_row15_col1\" class=\"data row15 col1\" >0.510667</td>\n",
              "      <td id=\"T_403c9_row15_col2\" class=\"data row15 col2\" >0.500053</td>\n",
              "      <td id=\"T_403c9_row15_col3\" class=\"data row15 col3\" >0.000000</td>\n",
              "      <td id=\"T_403c9_row15_col4\" class=\"data row15 col4\" >0.000000</td>\n",
              "      <td id=\"T_403c9_row15_col5\" class=\"data row15 col5\" >1.000000</td>\n",
              "      <td id=\"T_403c9_row15_col6\" class=\"data row15 col6\" >1.000000</td>\n",
              "      <td id=\"T_403c9_row15_col7\" class=\"data row15 col7\" >1.000000</td>\n",
              "    </tr>\n",
              "    <tr>\n",
              "      <th id=\"T_403c9_level0_row16\" class=\"row_heading level0 row16\" >Dual_sim</th>\n",
              "      <td id=\"T_403c9_row16_col0\" class=\"data row16 col0\" >1500.000000</td>\n",
              "      <td id=\"T_403c9_row16_col1\" class=\"data row16 col1\" >0.519333</td>\n",
              "      <td id=\"T_403c9_row16_col2\" class=\"data row16 col2\" >0.499793</td>\n",
              "      <td id=\"T_403c9_row16_col3\" class=\"data row16 col3\" >0.000000</td>\n",
              "      <td id=\"T_403c9_row16_col4\" class=\"data row16 col4\" >0.000000</td>\n",
              "      <td id=\"T_403c9_row16_col5\" class=\"data row16 col5\" >1.000000</td>\n",
              "      <td id=\"T_403c9_row16_col6\" class=\"data row16 col6\" >1.000000</td>\n",
              "      <td id=\"T_403c9_row16_col7\" class=\"data row16 col7\" >1.000000</td>\n",
              "    </tr>\n",
              "    <tr>\n",
              "      <th id=\"T_403c9_level0_row17\" class=\"row_heading level0 row17\" >4G_Network</th>\n",
              "      <td id=\"T_403c9_row17_col0\" class=\"data row17 col0\" >1500.000000</td>\n",
              "      <td id=\"T_403c9_row17_col1\" class=\"data row17 col1\" >0.526667</td>\n",
              "      <td id=\"T_403c9_row17_col2\" class=\"data row17 col2\" >0.499455</td>\n",
              "      <td id=\"T_403c9_row17_col3\" class=\"data row17 col3\" >0.000000</td>\n",
              "      <td id=\"T_403c9_row17_col4\" class=\"data row17 col4\" >0.000000</td>\n",
              "      <td id=\"T_403c9_row17_col5\" class=\"data row17 col5\" >1.000000</td>\n",
              "      <td id=\"T_403c9_row17_col6\" class=\"data row17 col6\" >1.000000</td>\n",
              "      <td id=\"T_403c9_row17_col7\" class=\"data row17 col7\" >1.000000</td>\n",
              "    </tr>\n",
              "    <tr>\n",
              "      <th id=\"T_403c9_level0_row18\" class=\"row_heading level0 row18\" >3G_Network</th>\n",
              "      <td id=\"T_403c9_row18_col0\" class=\"data row18 col0\" >1500.000000</td>\n",
              "      <td id=\"T_403c9_row18_col1\" class=\"data row18 col1\" >0.763333</td>\n",
              "      <td id=\"T_403c9_row18_col2\" class=\"data row18 col2\" >0.425178</td>\n",
              "      <td id=\"T_403c9_row18_col3\" class=\"data row18 col3\" >0.000000</td>\n",
              "      <td id=\"T_403c9_row18_col4\" class=\"data row18 col4\" >1.000000</td>\n",
              "      <td id=\"T_403c9_row18_col5\" class=\"data row18 col5\" >1.000000</td>\n",
              "      <td id=\"T_403c9_row18_col6\" class=\"data row18 col6\" >1.000000</td>\n",
              "      <td id=\"T_403c9_row18_col7\" class=\"data row18 col7\" >1.000000</td>\n",
              "    </tr>\n",
              "    <tr>\n",
              "      <th id=\"T_403c9_level0_row19\" class=\"row_heading level0 row19\" >depth</th>\n",
              "      <td id=\"T_403c9_row19_col0\" class=\"data row19 col0\" >1500.000000</td>\n",
              "      <td id=\"T_403c9_row19_col1\" class=\"data row19 col1\" >0.500133</td>\n",
              "      <td id=\"T_403c9_row19_col2\" class=\"data row19 col2\" >0.285799</td>\n",
              "      <td id=\"T_403c9_row19_col3\" class=\"data row19 col3\" >0.100000</td>\n",
              "      <td id=\"T_403c9_row19_col4\" class=\"data row19 col4\" >0.200000</td>\n",
              "      <td id=\"T_403c9_row19_col5\" class=\"data row19 col5\" >0.500000</td>\n",
              "      <td id=\"T_403c9_row19_col6\" class=\"data row19 col6\" >0.800000</td>\n",
              "      <td id=\"T_403c9_row19_col7\" class=\"data row19 col7\" >1.000000</td>\n",
              "    </tr>\n",
              "  </tbody>\n",
              "</table>\n"
            ]
          },
          "metadata": {},
          "execution_count": 38
        }
      ]
    },
    {
      "cell_type": "markdown",
      "source": [
        "There are some numerical features in the dataset including depth, Pixel_Resolution_Height, and screen_width that their min values don't make sense."
      ],
      "metadata": {
        "id": "BfmLOH2rf_29"
      }
    },
    {
      "cell_type": "markdown",
      "source": [
        "#PREPROCESSING"
      ],
      "metadata": {
        "id": "ZIiDr0Hoi8sv"
      }
    },
    {
      "cell_type": "markdown",
      "source": [
        "Mobile Depth (Cm):"
      ],
      "metadata": {
        "id": "lEg6gclAjnOA"
      }
    },
    {
      "cell_type": "code",
      "source": [
        "df['depth'].describe()"
      ],
      "metadata": {
        "colab": {
          "base_uri": "https://localhost:8080/"
        },
        "id": "av0yyBSfi_JH",
        "outputId": "37b49116-1721-4168-b96d-c98eb16e6acf"
      },
      "execution_count": 45,
      "outputs": [
        {
          "output_type": "execute_result",
          "data": {
            "text/plain": [
              "count    1500.000000\n",
              "mean        0.500133\n",
              "std         0.285799\n",
              "min         0.100000\n",
              "25%         0.200000\n",
              "50%         0.500000\n",
              "75%         0.800000\n",
              "max         1.000000\n",
              "Name: depth, dtype: float64"
            ]
          },
          "metadata": {},
          "execution_count": 45
        }
      ]
    },
    {
      "cell_type": "markdown",
      "source": [
        "✅According to the text as well as the reference below, I will consider the minimum Mobile Depth to be 0.5 centimeters.\n",
        "The minimum range of mobile phone depth varies depending on the manufacturer, model, and specific phone design. However, most smartphones have a thickness (depth) in the range of 7mm to 10mm. Some high-end models may be thinner than this range, with depths as low as 6mm or even less."
      ],
      "metadata": {
        "id": "L-mdLN9NjRDi"
      }
    },
    {
      "cell_type": "markdown",
      "source": [
        "Pixel Resolution (Height):\n"
      ],
      "metadata": {
        "id": "ndn8pFRDfdNx"
      }
    },
    {
      "cell_type": "code",
      "source": [
        "df['Pixel_Resolution_Height'].describe()"
      ],
      "metadata": {
        "colab": {
          "base_uri": "https://localhost:8080/"
        },
        "id": "-dDhOdH-eQCO",
        "outputId": "0314f7fb-d68d-4d4b-9a3b-8eff9add87c9"
      },
      "execution_count": 44,
      "outputs": [
        {
          "output_type": "execute_result",
          "data": {
            "text/plain": [
              "count    1500.000000\n",
              "mean      654.626667\n",
              "std       441.496076\n",
              "min         0.000000\n",
              "25%       299.750000\n",
              "50%       585.000000\n",
              "75%       952.250000\n",
              "max      1960.000000\n",
              "Name: Pixel_Resolution_Height, dtype: float64"
            ]
          },
          "metadata": {},
          "execution_count": 44
        }
      ]
    },
    {
      "cell_type": "markdown",
      "source": [
        "✅I considered the dimensions of the Nokia 1100 (96 x 65 pixels, 3:2 ratio) as the minimum of Pixel Resolution.➡️ 65 pixels"
      ],
      "metadata": {
        "id": "cG9qzQBvjabL"
      }
    },
    {
      "cell_type": "markdown",
      "source": [
        "Screen Width (Cm):\n",
        "\n"
      ],
      "metadata": {
        "id": "DKv0JvaEjf5a"
      }
    },
    {
      "cell_type": "code",
      "source": [
        "df['screen_width'].describe()"
      ],
      "metadata": {
        "colab": {
          "base_uri": "https://localhost:8080/"
        },
        "id": "rsrWPkjBju95",
        "outputId": "61336ef6-6bcb-4775-f88a-03df6f9cba77"
      },
      "execution_count": 46,
      "outputs": [
        {
          "output_type": "execute_result",
          "data": {
            "text/plain": [
              "count    1500.000000\n",
              "mean        5.797333\n",
              "std         4.366956\n",
              "min         0.000000\n",
              "25%         2.000000\n",
              "50%         5.000000\n",
              "75%         9.000000\n",
              "max        18.000000\n",
              "Name: screen_width, dtype: float64"
            ]
          },
          "metadata": {},
          "execution_count": 46
        }
      ]
    },
    {
      "cell_type": "markdown",
      "source": [
        "According to the Nokia 1100 screen resolution (96 x 65 pixels, 3:2 ratio), I will consider the minimum Screen Width to be 1 inch = 2.54 centimeters."
      ],
      "metadata": {
        "id": "3LbF6Cx1j2Q8"
      }
    },
    {
      "cell_type": "markdown",
      "source": [
        "# DATA CLEANING"
      ],
      "metadata": {
        "id": "HYuJDgPEj7ef"
      }
    },
    {
      "cell_type": "markdown",
      "source": [
        "MOBILE DEPTH"
      ],
      "metadata": {
        "id": "mO8mVBEBkqse"
      }
    },
    {
      "cell_type": "code",
      "source": [
        "# Find values below 0.5 cm\n",
        "below_threshold = df[\"depth\"][df[\"depth\"] < 0.5]\n",
        "\n",
        "# Count the number of values below 0.5 cm\n",
        "num_below_threshold = len(below_threshold)\n",
        "\n",
        "# Print the number of values below 0.5 cm\n",
        "print(\"Number of values below 0.5 cm in 'm_dep' feature: \", num_below_threshold)"
      ],
      "metadata": {
        "colab": {
          "base_uri": "https://localhost:8080/"
        },
        "id": "HUROiCcaj-Lj",
        "outputId": "6bb1fdd5-9e49-4b09-bcf4-7d5448ec10ab"
      },
      "execution_count": 47,
      "outputs": [
        {
          "output_type": "stream",
          "name": "stdout",
          "text": [
            "Number of values below 0.5 cm in 'm_dep' feature:  676\n"
          ]
        }
      ]
    },
    {
      "cell_type": "code",
      "source": [
        "# Replace values below 0.5 cm with 0.5 cm\n",
        "df[\"depth\"][df[\"depth\"] < 0.5] = 0.5"
      ],
      "metadata": {
        "id": "vQjVy3uXlRYQ"
      },
      "execution_count": 48,
      "outputs": []
    },
    {
      "cell_type": "code",
      "source": [
        "df.depth.describe()"
      ],
      "metadata": {
        "colab": {
          "base_uri": "https://localhost:8080/"
        },
        "id": "gp9X3_rElezL",
        "outputId": "f3ba404b-836f-4164-be2e-185f65943413"
      },
      "execution_count": 49,
      "outputs": [
        {
          "output_type": "execute_result",
          "data": {
            "text/plain": [
              "count    1500.000000\n",
              "mean        0.623867\n",
              "std         0.162833\n",
              "min         0.500000\n",
              "25%         0.500000\n",
              "50%         0.500000\n",
              "75%         0.800000\n",
              "max         1.000000\n",
              "Name: depth, dtype: float64"
            ]
          },
          "metadata": {},
          "execution_count": 49
        }
      ]
    },
    {
      "cell_type": "markdown",
      "source": [
        "Test Data"
      ],
      "metadata": {
        "id": "lhCcFlTnl0v1"
      }
    },
    {
      "cell_type": "code",
      "source": [
        "# Find values below 0.5 cm\n",
        "below_threshold3 = df_test[\"depth\"][df_test[\"depth\"] < 0.5]\n",
        "\n",
        "# Count the number of values below 0.5 cm\n",
        "num_below_threshold3 = len(below_threshold3)\n",
        "\n",
        "# Print the number of values below 0.5 cm\n",
        "print(\"Number of values below 0.5 cm in 'm_dep' feature: \", num_below_threshold3)\n"
      ],
      "metadata": {
        "colab": {
          "base_uri": "https://localhost:8080/"
        },
        "id": "MpDD7wodl2H7",
        "outputId": "808d3c3c-5632-4017-d6da-444e6d8b7f28"
      },
      "execution_count": 51,
      "outputs": [
        {
          "output_type": "stream",
          "name": "stdout",
          "text": [
            "Number of values below 0.5 cm in 'm_dep' feature:  224\n"
          ]
        }
      ]
    },
    {
      "cell_type": "code",
      "source": [
        "# Replace values below 0.5 cm with 0.5 cm\n",
        "df_test[\"depth\"][df_test[\"depth\"] < 0.5] = 0.5"
      ],
      "metadata": {
        "id": "NupcZD_OmFCh"
      },
      "execution_count": 52,
      "outputs": []
    },
    {
      "cell_type": "code",
      "source": [
        "df_test.depth.describe()"
      ],
      "metadata": {
        "colab": {
          "base_uri": "https://localhost:8080/"
        },
        "id": "_1qlIbHLmZvo",
        "outputId": "e339a998-ac29-4928-93bf-c632a5d22db1"
      },
      "execution_count": 53,
      "outputs": [
        {
          "output_type": "execute_result",
          "data": {
            "text/plain": [
              "count    500.000000\n",
              "mean       0.632400\n",
              "std        0.171957\n",
              "min        0.500000\n",
              "25%        0.500000\n",
              "50%        0.500000\n",
              "75%        0.800000\n",
              "max        1.000000\n",
              "Name: depth, dtype: float64"
            ]
          },
          "metadata": {},
          "execution_count": 53
        }
      ]
    },
    {
      "cell_type": "markdown",
      "source": [
        "Pixel Resolution"
      ],
      "metadata": {
        "id": "vevvDD74m4vV"
      }
    },
    {
      "cell_type": "code",
      "source": [
        "# Find values below 65 pixels\n",
        "below_threshold1 = df[\"Pixel_Resolution_Height\"][df[\"Pixel_Resolution_Height\"] < 65]\n",
        "\n",
        "# Count the number of values below 65 pixels\n",
        "num_below_threshold1 = len(below_threshold1)\n",
        "\n",
        "# Print the number of values below 65 pixels\n",
        "print(\"Number of values below 65 pixels in 'px_height' feature: \", num_below_threshold1)"
      ],
      "metadata": {
        "colab": {
          "base_uri": "https://localhost:8080/"
        },
        "id": "LVXiTHlaoUry",
        "outputId": "7cfb0fc5-3ec1-4d42-c06f-9365aa057b33"
      },
      "execution_count": 54,
      "outputs": [
        {
          "output_type": "stream",
          "name": "stdout",
          "text": [
            "Number of values below 65 pixels in 'px_height' feature:  67\n"
          ]
        }
      ]
    },
    {
      "cell_type": "code",
      "source": [
        "# Replace values below 65 pixels with 65 pixels\n",
        "df[\"Pixel_Resolution_Height\"][df[\"Pixel_Resolution_Height\"] < 65] = 65"
      ],
      "metadata": {
        "id": "ltDgUbTDonyS"
      },
      "execution_count": 55,
      "outputs": []
    },
    {
      "cell_type": "code",
      "source": [
        "df[\"Pixel_Resolution_Height\"].describe()"
      ],
      "metadata": {
        "colab": {
          "base_uri": "https://localhost:8080/"
        },
        "id": "0Cu1pHTvoxkB",
        "outputId": "60411f50-8b38-4f67-c0f4-ab2f043bd0b6"
      },
      "execution_count": 56,
      "outputs": [
        {
          "output_type": "execute_result",
          "data": {
            "text/plain": [
              "count    1500.000000\n",
              "mean      656.096667\n",
              "std       439.449468\n",
              "min        65.000000\n",
              "25%       299.750000\n",
              "50%       585.000000\n",
              "75%       952.250000\n",
              "max      1960.000000\n",
              "Name: Pixel_Resolution_Height, dtype: float64"
            ]
          },
          "metadata": {},
          "execution_count": 56
        }
      ]
    },
    {
      "cell_type": "markdown",
      "source": [
        "TEST DATA"
      ],
      "metadata": {
        "id": "Wm0wsWMTo4_m"
      }
    },
    {
      "cell_type": "code",
      "source": [
        "# Find values below 65 pixels\n",
        "below_threshold4 = df_test[\"Pixel_Resolution_Height\"][df_test[\"Pixel_Resolution_Height\"] < 65]\n",
        "\n",
        "# Count the number of values below 65 pixels\n",
        "num_below_threshold4 = len(below_threshold4)\n",
        "\n",
        "# Print the number of values below 65 pixels\n",
        "print(\"Number of values below 65 pixels in 'px_height' feature: \", num_below_threshold4)\n"
      ],
      "metadata": {
        "colab": {
          "base_uri": "https://localhost:8080/"
        },
        "id": "f8clbs4Eo7FE",
        "outputId": "a007aca5-1257-4f97-8aa7-9875fca2adda"
      },
      "execution_count": 57,
      "outputs": [
        {
          "output_type": "stream",
          "name": "stdout",
          "text": [
            "Number of values below 65 pixels in 'px_height' feature:  23\n"
          ]
        }
      ]
    },
    {
      "cell_type": "code",
      "source": [
        "# Replace values below 65 pixels with 65 pixels\n",
        "df_test[\"Pixel_Resolution_Height\"][df_test[\"Pixel_Resolution_Height\"] < 65] = 65"
      ],
      "metadata": {
        "id": "50WqjYe6pRpU"
      },
      "execution_count": 58,
      "outputs": []
    },
    {
      "cell_type": "code",
      "source": [
        "df_test[\"Pixel_Resolution_Height\"].describe()"
      ],
      "metadata": {
        "colab": {
          "base_uri": "https://localhost:8080/"
        },
        "id": "_RA8iF49pkQS",
        "outputId": "360c8536-4d48-4491-8b4c-7a1b3077d3fe"
      },
      "execution_count": 59,
      "outputs": [
        {
          "output_type": "execute_result",
          "data": {
            "text/plain": [
              "count     500.000000\n",
              "mean      617.826000\n",
              "std       448.177163\n",
              "min        65.000000\n",
              "25%       240.500000\n",
              "50%       501.000000\n",
              "75%       916.000000\n",
              "max      1914.000000\n",
              "Name: Pixel_Resolution_Height, dtype: float64"
            ]
          },
          "metadata": {},
          "execution_count": 59
        }
      ]
    },
    {
      "cell_type": "markdown",
      "source": [
        "Screen Width"
      ],
      "metadata": {
        "id": "5Lvn-2pnqAcG"
      }
    },
    {
      "cell_type": "code",
      "source": [
        "# Find values below 2.54 cm\n",
        "below_threshold2 = df[\"screen_width\"][df[\"screen_width\"] < 2.54]\n",
        "\n",
        "# Count the number of values below 2.54 cm\n",
        "num_below_threshold2 = len(below_threshold2)\n",
        "\n",
        "# Print the number of values below 2.54 cm\n",
        "print(\"Number of values below 2.54 cm in 'sc_w' feature: \", num_below_threshold2)"
      ],
      "metadata": {
        "colab": {
          "base_uri": "https://localhost:8080/"
        },
        "id": "8JpWu-lrqCwo",
        "outputId": "7eb943e7-e06e-4116-c0de-faee3dd91346"
      },
      "execution_count": 60,
      "outputs": [
        {
          "output_type": "stream",
          "name": "stdout",
          "text": [
            "Number of values below 2.54 cm in 'sc_w' feature:  403\n"
          ]
        }
      ]
    },
    {
      "cell_type": "code",
      "source": [
        "# Replace values below 2.54 cm with 2.54 cm\n",
        "df[\"screen_width\"][df[\"screen_width\"] < 2.54] = 2.54"
      ],
      "metadata": {
        "id": "PPY4cW24qSH3"
      },
      "execution_count": 61,
      "outputs": []
    },
    {
      "cell_type": "code",
      "source": [
        "df[\"screen_width\"].describe()"
      ],
      "metadata": {
        "colab": {
          "base_uri": "https://localhost:8080/"
        },
        "id": "AQwgJk4tqce5",
        "outputId": "3f1954e5-c666-4625-ca52-81074e51495b"
      },
      "execution_count": 62,
      "outputs": [
        {
          "output_type": "execute_result",
          "data": {
            "text/plain": [
              "count    1500.000000\n",
              "mean        6.221080\n",
              "std         3.910715\n",
              "min         2.540000\n",
              "25%         2.540000\n",
              "50%         5.000000\n",
              "75%         9.000000\n",
              "max        18.000000\n",
              "Name: screen_width, dtype: float64"
            ]
          },
          "metadata": {},
          "execution_count": 62
        }
      ]
    },
    {
      "cell_type": "markdown",
      "source": [
        "Test Data"
      ],
      "metadata": {
        "id": "5Qd3TWvUqi2_"
      }
    },
    {
      "cell_type": "code",
      "source": [
        "# Find values below 2.54 cm\n",
        "below_threshold2 = df_test[\"screen_width\"][df_test[\"screen_width\"] < 2.54]\n",
        "\n",
        "# Count the number of values below 2.54 cm\n",
        "num_below_threshold2 = len(below_threshold2)\n",
        "\n",
        "# Print the number of values below 2.54 cm\n",
        "print(\"Number of values below 2.54 cm in 'sc_w' feature: \", num_below_threshold2)"
      ],
      "metadata": {
        "colab": {
          "base_uri": "https://localhost:8080/"
        },
        "id": "Ga2zeap8qkZ_",
        "outputId": "b6d60bcc-de30-4c84-cc9a-81618d2dd123"
      },
      "execution_count": 63,
      "outputs": [
        {
          "output_type": "stream",
          "name": "stdout",
          "text": [
            "Number of values below 2.54 cm in 'sc_w' feature:  143\n"
          ]
        }
      ]
    },
    {
      "cell_type": "code",
      "source": [
        "# Replace values below 2.54 cm with 2.54 cm\n",
        "df_test[\"screen_width\"][df_test[\"screen_width\"] < 2.54] = 2.54"
      ],
      "metadata": {
        "id": "R0KF6Opaqumz"
      },
      "execution_count": 64,
      "outputs": []
    },
    {
      "cell_type": "code",
      "source": [
        "df_test[\"screen_width\"].describe()"
      ],
      "metadata": {
        "colab": {
          "base_uri": "https://localhost:8080/"
        },
        "id": "ax0Zdf12q1C1",
        "outputId": "a2ba5e6b-ae5b-4add-8cc3-96b1d917dc57"
      },
      "execution_count": 65,
      "outputs": [
        {
          "output_type": "execute_result",
          "data": {
            "text/plain": [
              "count    500.000000\n",
              "mean       6.134440\n",
              "std        3.837611\n",
              "min        2.540000\n",
              "25%        2.540000\n",
              "50%        5.000000\n",
              "75%        9.000000\n",
              "max       18.000000\n",
              "Name: screen_width, dtype: float64"
            ]
          },
          "metadata": {},
          "execution_count": 65
        }
      ]
    },
    {
      "cell_type": "markdown",
      "source": [
        "## MISSING DATA"
      ],
      "metadata": {
        "id": "2rOTiqzSrINv"
      }
    },
    {
      "cell_type": "code",
      "source": [
        "# Missing values (train)\n",
        "plt.figure(figsize=(22,4))\n",
        "sns.heatmap((df.isna().sum()).to_frame(name='').T,cmap='GnBu', annot=True,\n",
        "             fmt='0.0f').set_title('Count missing values (train data)', fontsize=18)\n",
        "plt.show()"
      ],
      "metadata": {
        "colab": {
          "base_uri": "https://localhost:8080/",
          "height": 582
        },
        "id": "I_aSI6UOrO8Q",
        "outputId": "ac3c4a78-381e-4e4e-981e-f783cd6adb1e"
      },
      "execution_count": 69,
      "outputs": [
        {
          "output_type": "display_data",
          "data": {
            "text/plain": [
              "<Figure size 2200x400 with 2 Axes>"
            ],
            "image/png": "[encoded data removed]"
          },
          "metadata": {}
        }
      ]
    },
    {
      "cell_type": "code",
      "source": [
        "# Missing values (test)\n",
        "plt.figure(figsize=(22,4))\n",
        "sns.heatmap((df_test.isna().sum()).to_frame(name='').T,cmap='GnBu', annot=True,\n",
        "             fmt='0.0f').set_title('Count missing values (test data)', fontsize=18)\n",
        "plt.show()"
      ],
      "metadata": {
        "colab": {
          "base_uri": "https://localhost:8080/",
          "height": 582
        },
        "id": "ygKzuzFtrYYm",
        "outputId": "baad661c-9c3f-4ff3-9ee1-49f60aff9dcb"
      },
      "execution_count": 70,
      "outputs": [
        {
          "output_type": "display_data",
          "data": {
            "text/plain": [
              "<Figure size 2200x400 with 2 Axes>"
            ],
            "image/png": "[encoded data removed]"
          },
          "metadata": {}
        }
      ]
    },
    {
      "cell_type": "markdown",
      "source": [
        "## Checking for the following:\n",
        "\n",
        "*   Null Values\n",
        "*   Duplicated Rows\n",
        "*   Whitespaces within columns\n",
        "\n"
      ],
      "metadata": {
        "id": "Jf3fWCRyMwE-"
      }
    },
    {
      "cell_type": "code",
      "source": [
        "#Checking for Null Values, Duplicated Rows and Whitespaces within columns\n",
        "def check(case, df):\n",
        "  if case == 'null':\n",
        "    return df.isnull().sum()\n",
        "  elif case == 'duplicate':\n",
        "    return df.duplicated().sum()\n",
        "  elif case == 'whitespace':\n",
        "    return [ i for i in df.columns if i.startswith(' ') or i.endswith(' ')]   \n",
        "  # elif case == 'outlier':\n",
        "  #   q1 = df.quantile(0.25)\n",
        "  #   q3 = df.quantile(0.75)\n",
        "  #   iqr = q3 - q1\n",
        "  #   lower_bound = q1 - 1.5*iqr \n",
        "  #   upper_bound = q3 + 1.5*iqr \n",
        "  #   print('Upper Bound Value : {}'. format(upper_bound),'\\n')\n",
        "  #   print('Lower Bound Value : {}'. format(lower_bound)) \n"
      ],
      "metadata": {
        "id": "xVewU9_4Dn_c"
      },
      "execution_count": 66,
      "outputs": []
    },
    {
      "cell_type": "code",
      "source": [
        "print(check('null', df))\n",
        "check('duplicate', df)"
      ],
      "metadata": {
        "colab": {
          "base_uri": "https://localhost:8080/"
        },
        "id": "G3VzHarlFJxT",
        "outputId": "4151b016-b146-4db4-f1dc-2fec8edb9762"
      },
      "execution_count": 67,
      "outputs": [
        {
          "output_type": "stream",
          "name": "stdout",
          "text": [
            "Battery_power                0\n",
            "Bluetooth                    0\n",
            "Clock_speed                  0\n",
            "Dual_sim                     0\n",
            "front_camera_megapixels      0\n",
            "4G_Network                   0\n",
            "Internal_memory              0\n",
            "depth                        0\n",
            "weight                       0\n",
            "Number of processor_cores    0\n",
            "primary_camera_megapixels    0\n",
            "Pixel_Resolution_Height      0\n",
            "Pixel_Resolution_Width       0\n",
            "ram                          0\n",
            "screen_height                0\n",
            "screen_width                 0\n",
            "talk_time                    0\n",
            "3G_Network                   0\n",
            "touch_screen                 0\n",
            "wifi                         0\n",
            "price_range                  0\n",
            "dtype: int64\n"
          ]
        },
        {
          "output_type": "execute_result",
          "data": {
            "text/plain": [
              "0"
            ]
          },
          "metadata": {},
          "execution_count": 67
        }
      ]
    },
    {
      "cell_type": "code",
      "source": [
        "check('whitespace', df)"
      ],
      "metadata": {
        "colab": {
          "base_uri": "https://localhost:8080/"
        },
        "id": "gFB7o4NyJcZj",
        "outputId": "d971e2ef-d579-4828-eac2-3efd3ffe6766"
      },
      "execution_count": 68,
      "outputs": [
        {
          "output_type": "execute_result",
          "data": {
            "text/plain": [
              "[]"
            ]
          },
          "metadata": {},
          "execution_count": 68
        }
      ]
    },
    {
      "cell_type": "markdown",
      "source": [],
      "metadata": {
        "id": "cJPwsuBFcI3X"
      }
    },
    {
      "cell_type": "code",
      "source": [],
      "metadata": {
        "id": "iVXTBpADcLYB"
      },
      "execution_count": null,
      "outputs": []
    }
  ]
}